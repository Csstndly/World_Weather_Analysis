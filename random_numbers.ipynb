{
 "cells": [
  {
   "cell_type": "code",
   "execution_count": 6,
   "id": "c8c34343",
   "metadata": {},
   "outputs": [],
   "source": [
    "# Import the random module.\n",
    "import random"
   ]
  },
  {
   "cell_type": "code",
   "execution_count": 9,
   "id": "eb309355",
   "metadata": {},
   "outputs": [],
   "source": [
    "#if you click tab after the period can get list of random functions"
   ]
  },
  {
   "cell_type": "code",
   "execution_count": 10,
   "id": "8af79581",
   "metadata": {},
   "outputs": [
    {
     "data": {
      "text/plain": [
       "-8"
      ]
     },
     "execution_count": 10,
     "metadata": {},
     "output_type": "execute_result"
    }
   ],
   "source": [
    "#returns only one int\n",
    "random.randint(-90, 90)"
   ]
  },
  {
   "cell_type": "code",
   "execution_count": 11,
   "id": "bf400457",
   "metadata": {},
   "outputs": [
    {
     "data": {
      "text/plain": [
       "0.12307593071416523"
      ]
     },
     "execution_count": 11,
     "metadata": {},
     "output_type": "execute_result"
    }
   ],
   "source": [
    "#generates a floating point decimal between values stated\n",
    "random.random()"
   ]
  },
  {
   "cell_type": "code",
   "execution_count": 12,
   "id": "a43b5a4b",
   "metadata": {},
   "outputs": [
    {
     "data": {
      "text/plain": [
       "22"
      ]
     },
     "execution_count": 12,
     "metadata": {},
     "output_type": "execute_result"
    }
   ],
   "source": [
    "random.randint(-90, 89)"
   ]
  },
  {
   "cell_type": "code",
   "execution_count": 13,
   "id": "46e237da",
   "metadata": {},
   "outputs": [
    {
     "data": {
      "text/plain": [
       "57.62368097703587"
      ]
     },
     "execution_count": 13,
     "metadata": {},
     "output_type": "execute_result"
    }
   ],
   "source": [
    "rand_number = random.randint(-90, 89) + random.random()\n",
    "rand_number"
   ]
  },
  {
   "cell_type": "code",
   "execution_count": null,
   "id": "c90d968e",
   "metadata": {},
   "outputs": [],
   "source": [
    "# assign var\n",
    "# intialize list\n",
    "# loop that generate a random lattitude and add to list\n",
    "#vontinues to be checked until x is no longer < than 11"
   ]
  },
  {
   "cell_type": "code",
   "execution_count": 16,
   "id": "133c81da",
   "metadata": {},
   "outputs": [
    {
     "data": {
      "text/plain": [
       "[-55.41562333976784,\n",
       " 5.315299235102439,\n",
       " 83.9246067472815,\n",
       " -55.35886250593848,\n",
       " -23.020179790304322,\n",
       " -10.023869520328631,\n",
       " 27.430850717307774,\n",
       " 57.56976813970537,\n",
       " -39.232416880742825,\n",
       " -43.25440513680218]"
      ]
     },
     "execution_count": 16,
     "metadata": {},
     "output_type": "execute_result"
    }
   ],
   "source": [
    "x = 1\n",
    "latitudes = []\n",
    "while x < 11:\n",
    "    random_lat = random.randint(-90, 89) + random.random()\n",
    "    latitudes.append(random_lat)\n",
    "    x += 1\n",
    "latitudes"
   ]
  },
  {
   "cell_type": "code",
   "execution_count": 29,
   "id": "f18ff95a",
   "metadata": {},
   "outputs": [
    {
     "data": {
      "text/plain": [
       "23"
      ]
     },
     "execution_count": 29,
     "metadata": {},
     "output_type": "execute_result"
    }
   ],
   "source": [
    "#he step is the difference between each number in the sequence.\n",
    "random.randrange(-90, 90, step=1)"
   ]
  },
  {
   "cell_type": "code",
   "execution_count": 33,
   "id": "a6ab884d",
   "metadata": {},
   "outputs": [
    {
     "data": {
      "text/plain": [
       "-6"
      ]
     },
     "execution_count": 33,
     "metadata": {},
     "output_type": "execute_result"
    }
   ],
   "source": [
    "# the step is the difference between each number in the sequence 3...?\n",
    "random.randrange(-90, 90, step=3)"
   ]
  },
  {
   "cell_type": "code",
   "execution_count": 34,
   "id": "974301d2",
   "metadata": {},
   "outputs": [
    {
     "data": {
      "text/plain": [
       "6.342595772873381"
      ]
     },
     "execution_count": 34,
     "metadata": {},
     "output_type": "execute_result"
    }
   ],
   "source": [
    "random.uniform(-90, 90)"
   ]
  },
  {
   "cell_type": "code",
   "execution_count": null,
   "id": "2ef6f6fe",
   "metadata": {},
   "outputs": [],
   "source": [
    "# Function\tOutput\tLimitation\n",
    "# randint(-90, 89)\tReturns an integer between the interval, -90 and up to 89.\tWill not generate a floating-point decimal number.\n",
    "# random()\tReturns a floating-point decimal number between 0 and 1.\tWill not generate a whole integer.\n",
    "# randrange(-90, 90, step=1)\tReturns a whole integer between the interval, -90 and 90 where the step is the difference between each number in the sequence.\tWill not generate a floating-point decimal number.\n",
    "# uniform(-90, 90)\tReturns a floating-point decimal number between the interval, -90 and 90.\tWill not generate a whole integer."
   ]
  },
  {
   "cell_type": "code",
   "execution_count": 35,
   "id": "5af7fcd5",
   "metadata": {},
   "outputs": [],
   "source": [
    "# Import the NumPy module.\n",
    "import numpy as np"
   ]
  },
  {
   "cell_type": "code",
   "execution_count": 36,
   "id": "3db75d6f",
   "metadata": {},
   "outputs": [
    {
     "data": {
      "text/plain": [
       "-4.030658671886499"
      ]
     },
     "execution_count": 36,
     "metadata": {},
     "output_type": "execute_result"
    }
   ],
   "source": [
    "# chained np to generate rand numbers highe than a thousand\n",
    "\n",
    "np.random.uniform(-90.000, 90.000)"
   ]
  },
  {
   "cell_type": "code",
   "execution_count": null,
   "id": "818c2e9c",
   "metadata": {},
   "outputs": [],
   "source": [
    "# Alternative option for above cell\n",
    "\n",
    "#np.random.uniform(low=-90, high=90)"
   ]
  },
  {
   "cell_type": "code",
   "execution_count": 37,
   "id": "e65336ca",
   "metadata": {},
   "outputs": [
    {
     "data": {
      "text/plain": [
       "array([ 38.25509707,  83.45232159,  75.36851729, -29.18664586,\n",
       "       -77.48227825, -61.47811061, -81.28925394, -44.09012925,\n",
       "        15.44218607,  65.46243796,  -9.21330803,  58.52606211,\n",
       "        83.18786286, -15.22432939, -14.58902558,  -2.78680956,\n",
       "        49.06704681, -46.63846769, -38.03816407,  60.35837043,\n",
       "        48.29267078, -48.32605062,  81.32139262,  65.79508516,\n",
       "       -54.08420326,  22.35234239, -46.23274042,  69.27067663,\n",
       "        17.56654658,  63.97209253,  66.67650329,  -1.20388075,\n",
       "       -16.50846488,  36.12154994,  43.20330402,   1.0751059 ,\n",
       "        -5.55892298,  65.68432932,  55.65301734, -53.52701562,\n",
       "        51.86168938, -62.68354363,  25.98704453,  16.39579768,\n",
       "        26.96016337,  56.48488632,  53.12073454, -29.90418828,\n",
       "        39.46839708, -28.02693337])"
      ]
     },
     "execution_count": 37,
     "metadata": {},
     "output_type": "execute_result"
    }
   ],
   "source": [
    "np.random.uniform(-90.000, 90.000, size=50)"
   ]
  },
  {
   "cell_type": "code",
   "execution_count": null,
   "id": "e880af89",
   "metadata": {},
   "outputs": [],
   "source": [
    "# testing how long a piece of code/funtion takes to run"
   ]
  },
  {
   "cell_type": "code",
   "execution_count": 38,
   "id": "aa7ea16c",
   "metadata": {},
   "outputs": [],
   "source": [
    "# Import timeit.\n",
    "import timeit"
   ]
  },
  {
   "cell_type": "code",
   "execution_count": 41,
   "id": "98dcb597",
   "metadata": {},
   "outputs": [
    {
     "name": "stdout",
     "output_type": "stream",
     "text": [
      "32.6 µs ± 266 ns per loop (mean ± std. dev. of 7 runs, 10000 loops each)\n"
     ]
    }
   ],
   "source": [
    "# Took 7 runs, 1,000 loops per run! 32.6microseconds it took to run the code\n",
    "%timeit np.random.uniform(-90.000, 90.000, size=1500)"
   ]
  },
  {
   "cell_type": "code",
   "execution_count": 42,
   "id": "022867b4",
   "metadata": {},
   "outputs": [
    {
     "name": "stdout",
     "output_type": "stream",
     "text": [
      "3.75 ms ± 26.5 µs per loop (mean ± std. dev. of 7 runs, 100 loops each)\n"
     ]
    }
   ],
   "source": [
    "# output was 3.75 miliseconds to run code\n",
    "def latitudes(size):\n",
    "    latitudes = []\n",
    "    x = 0\n",
    "    while x < (size):\n",
    "        random_lat = random.randint(-90, 90) + random.random()\n",
    "        latitudes.append(random_lat)\n",
    "        x += 1\n",
    "    return latitudes\n",
    "# Call the function with 1500.\n",
    "%timeit latitudes(1500)"
   ]
  },
  {
   "cell_type": "code",
   "execution_count": null,
   "id": "e07b72cd",
   "metadata": {},
   "outputs": [],
   "source": [
    "## Create Latitude and Longitude Combos"
   ]
  },
  {
   "cell_type": "code",
   "execution_count": null,
   "id": "14afd31f",
   "metadata": {},
   "outputs": [],
   "source": []
  },
  {
   "cell_type": "code",
   "execution_count": null,
   "id": "17de8fa8",
   "metadata": {},
   "outputs": [],
   "source": []
  },
  {
   "cell_type": "code",
   "execution_count": null,
   "id": "99d087c0",
   "metadata": {},
   "outputs": [],
   "source": []
  },
  {
   "cell_type": "code",
   "execution_count": null,
   "id": "72051fa4",
   "metadata": {},
   "outputs": [],
   "source": []
  },
  {
   "cell_type": "code",
   "execution_count": null,
   "id": "226e5578",
   "metadata": {},
   "outputs": [],
   "source": []
  },
  {
   "cell_type": "code",
   "execution_count": null,
   "id": "5bfa79be",
   "metadata": {},
   "outputs": [],
   "source": []
  }
 ],
 "metadata": {
  "kernelspec": {
   "display_name": "PythonData",
   "language": "python",
   "name": "pythondata"
  },
  "language_info": {
   "codemirror_mode": {
    "name": "ipython",
    "version": 3
   },
   "file_extension": ".py",
   "mimetype": "text/x-python",
   "name": "python",
   "nbconvert_exporter": "python",
   "pygments_lexer": "ipython3",
   "version": "3.7.10"
  }
 },
 "nbformat": 4,
 "nbformat_minor": 5
}
